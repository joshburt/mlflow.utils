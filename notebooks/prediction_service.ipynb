{
 "cells": [
  {
   "cell_type": "code",
   "execution_count": null,
   "metadata": {},
   "outputs": [],
   "source": [
    "from src.anaconda.ae5.secrets import load_ae5_user_secrets\n",
    "from dotenv import load_dotenv\n",
    "\n",
    "# load defined environmental variables\n",
    "load_dotenv(dotenv_path=\"../env/.env.ae5\")\n",
    "load_ae5_user_secrets()"
   ]
  },
  {
   "cell_type": "code",
   "execution_count": null,
   "metadata": {},
   "outputs": [],
   "source": [
    "# Load the latest Production Model\n",
    "# Serve the production model from the model registry\n",
    "\n",
    "# https://www.mlflow.org/docs/latest/cli.html#mlflow-models-serve\n",
    "!mlflow models serve -m \"models:/taxi_fare_regressor/Production\" --env-manager conda"
   ]
  },
  {
   "cell_type": "code",
   "execution_count": null,
   "metadata": {},
   "outputs": [],
   "source": []
  }
 ],
 "metadata": {
  "kernelspec": {
   "display_name": "Python 3",
   "language": "python",
   "name": "python3"
  },
  "language_info": {
   "codemirror_mode": {
    "name": "ipython",
    "version": 2
   },
   "file_extension": ".py",
   "mimetype": "text/x-python",
   "name": "python",
   "nbconvert_exporter": "python",
   "pygments_lexer": "ipython2",
   "version": "2.7.6"
  }
 },
 "nbformat": 4,
 "nbformat_minor": 0
}
