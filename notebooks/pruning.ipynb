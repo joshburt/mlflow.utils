{
 "cells": [
  {
   "cell_type": "markdown",
   "metadata": {
    "collapsed": false
   },
   "source": [
    "Experiment and model pruning logic\n",
    "- determine retention period: (e.g. 10 days)\n",
    "- detemine minimum to retrain (even if older than expiry period)\n",
    "- determine if we can know a priori if a model/experiment run can be linked to a deployed model\n"
   ]
  },
  {
   "cell_type": "code",
   "execution_count": null,
   "metadata": {},
   "outputs": [],
   "source": [
    "from datetime import timedelta\n",
    "\n",
    "MAX_RUN_AGE: timedelta = timedelta(days=1)"
   ]
  },
  {
   "cell_type": "code",
   "execution_count": null,
   "metadata": {},
   "outputs": [],
   "source": [
    "import os\n",
    "\n",
    "os.environ[\n",
    "    \"MLFLOW_TRACKING_TOKEN\"\n",
    "] = \"eyJhbGciOiJIUzI1NiIsInR5cCIgOiAiSldUIiwia2lkIiA6ICI1Yzk1ZGE1OC1iZTNiLTQxYmMtOWE3MS04MTVhM2Q3NWM4OWEifQ.eyJpYXQiOjE2NzA0MzYyMDksImp0aSI6IjkyMGE4YzlkLWNlYzctNDE0Zi1hMWFlLTY5M2NjZTNlMGZhNiIsImlzcyI6Imh0dHBzOi8vYWlwLmFuYWNvbmRhLmNvbS9hdXRoL3JlYWxtcy9BbmFjb25kYVBsYXRmb3JtIiwiYXVkIjoiaHR0cHM6Ly9haXAuYW5hY29uZGEuY29tL2F1dGgvcmVhbG1zL0FuYWNvbmRhUGxhdGZvcm0iLCJzdWIiOiI5YmRlMjgzMC1iOWE5LTQ3ZGUtYWI0OC04NjY2MTlhZTk3MDIiLCJ0eXAiOiJPZmZsaW5lIiwiYXpwIjoiYXBwX2NsaWVudF8xMjgwY2Q1ZmFjNjk0MjRiOWEyNDFhNmMxODNlYzUxMSIsInNlc3Npb25fc3RhdGUiOiJlZGEzMWVjZi02ZjJlLTQxODYtOTBlMS04OTQ5Y2IwN2Y0ZWMiLCJzY29wZSI6Im9wZW5pZCBBbmFjb25kYV90ZW1wbGF0ZSBvZmZsaW5lX2FjY2VzcyBwcm9maWxlIGVtYWlsIiwic2lkIjoiZWRhMzFlY2YtNmYyZS00MTg2LTkwZTEtODk0OWNiMDdmNGVjIn0.yp64pyGA4bHKddW_aRJtwNZAY7j6y0AAxZ4LFEEuphY\""
   ]
  },
  {
   "cell_type": "code",
   "execution_count": null,
   "metadata": {},
   "outputs": [],
   "source": [
    "from mlflow import MlflowClient"
   ]
  },
  {
   "cell_type": "code",
   "execution_count": null,
   "metadata": {},
   "outputs": [],
   "source": [
    "tracking_uri: str = \"https://mlflow-tracking-server-jburt-poc.aip.anaconda.com/\"\n",
    "registry_uri: str = \"https://mlflow-tracking-server-jburt-poc.aip.anaconda.com/\"\n",
    "client = MlflowClient(tracking_uri=tracking_uri, registry_uri=registry_uri)"
   ]
  },
  {
   "cell_type": "code",
   "execution_count": null,
   "metadata": {},
   "outputs": [],
   "source": [
    "from mlflow.store.entities import PagedList\n",
    "from mlflow.entities import Experiment\n",
    "\n",
    "\n",
    "def get_experiments() -> list[Experiment]:\n",
    "    experiments: PagedList[Experiment] = PagedList(items=[], token=None)\n",
    "\n",
    "    halt_paging: bool = False\n",
    "    page_token: Union[str, None] = None\n",
    "    while not halt_paging:\n",
    "        reported_experiments: PagedList[Experiment] = client.search_experiments(page_token=page_token)\n",
    "        if reported_experiments.token is not None:\n",
    "            page_token = reported_experiments.token\n",
    "        else:\n",
    "            halt_paging = True\n",
    "        experiments.append(reported_experiments)\n",
    "\n",
    "    return list(experiments[0])"
   ]
  },
  {
   "cell_type": "code",
   "execution_count": null,
   "metadata": {},
   "outputs": [],
   "source": [
    "from typing import Union\n",
    "from mlflow.entities import Run\n",
    "\n",
    "\n",
    "def get_experiment_runs(experiment_id: str) -> list[Run]:\n",
    "    results: PagedList[Run] = PagedList(items=[], token=None)\n",
    "\n",
    "    halt_paging: bool = False\n",
    "    page_token: Union[str, None] = None\n",
    "    while not halt_paging:\n",
    "        reported_runs: PagedList[Run] = client.search_runs(experiment_ids=[experiment_id], page_token=page_token)\n",
    "        if reported_runs.token is not None:\n",
    "            page_token = reported_runs.token\n",
    "        else:\n",
    "            halt_paging = True\n",
    "        results.append(reported_runs)\n",
    "\n",
    "    return list(results[0])"
   ]
  },
  {
   "cell_type": "code",
   "execution_count": null,
   "metadata": {},
   "outputs": [],
   "source": [
    "from mlflow.entities.model_registry import ModelVersion\n",
    "\n",
    "\n",
    "def get_prunable_model(run_id: str) -> Union[ModelVersion, None]:\n",
    "    model_list: PagedList[ModelVersion] = client.search_model_versions(f\"run_id = '{run_id}'\")\n",
    "\n",
    "    # There should only be a single match\n",
    "    if len(model_list) != 1:\n",
    "        return None\n",
    "\n",
    "    model_version: ModelVersion = model_list[0]\n",
    "\n",
    "    # We only want to pull models which have no stage (meaning not staging, production, or archived).\n",
    "    if model_version.current_stage != \"None\":\n",
    "        return None\n",
    "\n",
    "    return model_version"
   ]
  },
  {
   "cell_type": "code",
   "execution_count": null,
   "metadata": {},
   "outputs": [],
   "source": [
    "from datetime import datetime\n",
    "from mlflow.entities import Run\n",
    "import json\n",
    "\n",
    "\n",
    "def get_prunable_runs(runs: list[Run]) -> list[dict]:\n",
    "    prunables: list[dict] = []\n",
    "    for run in runs:\n",
    "        if run.info.end_time:\n",
    "            run_id: str = run.info.run_id\n",
    "\n",
    "            run_end_time: int = run.info.end_time / 1000\n",
    "            run_end_time_dt: datetime = datetime.fromtimestamp(run_end_time)\n",
    "\n",
    "            model_meta = json.loads(run.data.tags[\"mlflow.log-model.history\"])[0]\n",
    "            model_run_id: str = model_meta[\"run_id\"]\n",
    "\n",
    "            # Prunable runs\n",
    "            MAX_AGE_TIME: datetime = datetime.utcnow() - MAX_RUN_AGE\n",
    "            if run_end_time_dt < MAX_AGE_TIME:\n",
    "                model: Union[ModelVersion, None] = get_prunable_model(run_id=model_run_id)\n",
    "                if model:\n",
    "                    # At this point both the run and model are prunable.\n",
    "                    prunable: dict = {\n",
    "                        \"experiment_run_id\": run_id,\n",
    "                        \"model\": {\"name\": model.name, \"version\": model.version},\n",
    "                    }\n",
    "                    prunables.append(prunable)\n",
    "    return prunables"
   ]
  },
  {
   "cell_type": "code",
   "execution_count": null,
   "metadata": {},
   "outputs": [],
   "source": [
    "from mlflow.entities import Experiment\n",
    "\n",
    "experiments: list[Experiment] = get_experiments()\n",
    "for experiment in experiments:\n",
    "    print(f\"Reviewing experiment {experiment.experiment_id}\")\n",
    "    runs: list[Run] = get_experiment_runs(experiment_id=experiment.experiment_id)\n",
    "    prunables = get_prunable_runs(runs=runs)\n",
    "    print(prunables)"
   ]
  },
  {
   "cell_type": "code",
   "execution_count": null,
   "metadata": {
    "pycharm": {
     "is_executing": true
    }
   },
   "outputs": [],
   "source": []
  },
  {
   "cell_type": "code",
   "execution_count": null,
   "metadata": {},
   "outputs": [],
   "source": []
  }
 ],
 "metadata": {
  "kernelspec": {
   "display_name": "Python 3",
   "language": "python",
   "name": "python3"
  },
  "language_info": {
   "codemirror_mode": {
    "name": "ipython",
    "version": 2
   },
   "file_extension": ".py",
   "mimetype": "text/x-python",
   "name": "python",
   "nbconvert_exporter": "python",
   "pygments_lexer": "ipython2",
   "version": "2.7.6"
  }
 },
 "nbformat": 4,
 "nbformat_minor": 0
}
