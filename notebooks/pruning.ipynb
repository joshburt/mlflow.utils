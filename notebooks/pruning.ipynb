{
 "cells": [
  {
   "cell_type": "markdown",
   "source": [
    "Experiment and model pruning logic\n",
    "- determine retention period: (e.g. 10 days)\n",
    "- detemine minimum to retrain (even if older than expiry period)\n",
    "- determine if we can know a priori if a model/experiment run can be linked to a deployed model\n"
   ],
   "metadata": {
    "collapsed": false
   }
  },
  {
   "cell_type": "code",
   "execution_count": 1,
   "outputs": [
    {
     "data": {
      "text/plain": "True"
     },
     "execution_count": 1,
     "metadata": {},
     "output_type": "execute_result"
    }
   ],
   "source": [
    "from dotenv import load_dotenv\n",
    "\n",
    "# load locally defined environmental variables\n",
    "load_dotenv(dotenv_path=\"../env/.env.ae5\")  # take environment variables from .env."
   ],
   "metadata": {
    "collapsed": false
   }
  },
  {
   "cell_type": "code",
   "execution_count": 2,
   "outputs": [],
   "source": [
    "from src.anaconda.mlflow.service.factory import build_mlflow_client, build_client\n",
    "from src.anaconda.mlflow.client import AnacondaMlFlowClient\n",
    "\n",
    "client: AnacondaMlFlowClient = build_client(client=build_mlflow_client())"
   ],
   "metadata": {
    "collapsed": false
   }
  },
  {
   "cell_type": "code",
   "execution_count": 5,
   "outputs": [
    {
     "name": "stdout",
     "output_type": "stream",
     "text": [
      "Reviewing experiment 1\n",
      "Reviewing experiment 0\n"
     ]
    }
   ],
   "source": [
    "client.prune(pruneables=client.get_pruneables(), dry_run=False)"
   ],
   "metadata": {
    "collapsed": false
   }
  },
  {
   "cell_type": "code",
   "execution_count": null,
   "outputs": [],
   "source": [],
   "metadata": {
    "collapsed": false
   }
  }
 ],
 "metadata": {
  "kernelspec": {
   "display_name": "Python 3",
   "language": "python",
   "name": "python3"
  },
  "language_info": {
   "codemirror_mode": {
    "name": "ipython",
    "version": 2
   },
   "file_extension": ".py",
   "mimetype": "text/x-python",
   "name": "python",
   "nbconvert_exporter": "python",
   "pygments_lexer": "ipython2",
   "version": "2.7.6"
  }
 },
 "nbformat": 4,
 "nbformat_minor": 0
}
