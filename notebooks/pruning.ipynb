{
 "cells": [
  {
   "cell_type": "code",
   "execution_count": null,
   "metadata": {},
   "outputs": [],
   "source": [
    "from src.anaconda.ae5.secrets import load_ae5_user_secrets\n",
    "from dotenv import load_dotenv\n",
    "\n",
    "# load defined environmental variables\n",
    "load_dotenv(dotenv_path=\"../env/.env.ae5\")\n",
    "load_ae5_user_secrets()"
   ]
  },
  {
   "cell_type": "code",
   "execution_count": null,
   "metadata": {},
   "outputs": [],
   "source": [
    "from src.anaconda.mlflow.service.factory import build_mlflow_client, build_client\n",
    "from src.anaconda.mlflow.client import AnacondaMlFlowClient\n",
    "\n",
    "client: AnacondaMlFlowClient = build_client(client=build_mlflow_client())"
   ]
  },
  {
   "cell_type": "code",
   "execution_count": null,
   "metadata": {},
   "outputs": [],
   "source": [
    "client.prune(pruneables=client.get_pruneables(), dry_run=False)"
   ]
  },
  {
   "cell_type": "code",
   "execution_count": null,
   "metadata": {},
   "outputs": [],
   "source": []
  }
 ],
 "metadata": {
  "kernelspec": {
   "display_name": "Python 3",
   "language": "python",
   "name": "python3"
  },
  "language_info": {
   "codemirror_mode": {
    "name": "ipython",
    "version": 2
   },
   "file_extension": ".py",
   "mimetype": "text/x-python",
   "name": "python",
   "nbconvert_exporter": "python",
   "pygments_lexer": "ipython2",
   "version": "2.7.6"
  }
 },
 "nbformat": 4,
 "nbformat_minor": 0
}
